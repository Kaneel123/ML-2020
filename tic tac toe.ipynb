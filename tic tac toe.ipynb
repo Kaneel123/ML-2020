{
 "cells": [
  {
   "cell_type": "markdown",
   "metadata": {},
   "source": [
    "<h1><center>Tic Tac Toe Reinforcement Learning Algorithm </center></h1>"
   ]
  },
  {
   "cell_type": "code",
   "execution_count": 12,
   "metadata": {},
   "outputs": [],
   "source": [
    "#first import the libraries\n",
    "import numpy as np\n",
    "import matplotlib.pyplot as plt\n",
    "from IPython.display import clear_output\n",
    "from time import sleep\n",
    "from random import randint"
   ]
  },
  {
   "cell_type": "markdown",
   "metadata": {},
   "source": [
    "**In the first part lets build a two human player's game instead of actually using a RL algorithm. After building the two player game, we can move on to building the RL brain!**"
   ]
  },
  {
   "cell_type": "code",
   "execution_count": 13,
   "metadata": {},
   "outputs": [
    {
     "name": "stdout",
     "output_type": "stream",
     "text": [
      "    |    |   \n",
      "    |    |  \n",
      "____|____|___\n",
      "    |    |  \n",
      "    |    |  \n",
      "____|____|___\n",
      "    |    |  \n",
      "    |    |  \n",
      "    |    |  \n"
     ]
    }
   ],
   "source": [
    "#lets make a function to display the board. Now all we have to do is to replace the board values \n",
    "board = {'1':' ', '2':' ', '3':' ', '4':' ', '5':' ', '6':' ','7':' ','8':' ','9':' '}\n",
    "\n",
    "def display_board(board):\n",
    "    \n",
    "    print('    |    |   ')\n",
    "    print('',board['1'],' |',board['2'],' |',board['3'])\n",
    "    print('____|____|___')\n",
    "    print('    |    |  ')\n",
    "    print('',board['4'],' |',board['5'],' |',board['6'])\n",
    "    print('____|____|___')\n",
    "    print('    |    |  ')\n",
    "    print('',board['7'],' |',board['8'],' |',board['9'])\n",
    "    print('    |    |  ')\n",
    "    \n",
    "    \n",
    "#check if the board function is working \n",
    "display_board(board)"
   ]
  },
  {
   "cell_type": "markdown",
   "metadata": {},
   "source": [
    "**The board is good to go! Now lets create a new function so that we can input X's and O's and change the display**"
   ]
  },
  {
   "cell_type": "code",
   "execution_count": 14,
   "metadata": {},
   "outputs": [],
   "source": [
    "turn = 0\n",
    "\n",
    "def player_input():    \n",
    "        \n",
    "        global turn \n",
    "        \n",
    "        if turn == 0:\n",
    "            \n",
    "            move = input('choose your move: ')\n",
    "            \n",
    "            if board[move] == ' ':\n",
    "                board[move] = 'X'\n",
    "                turn = 1\n",
    "            else:\n",
    "                print('choose another move')\n",
    "                turn = 0\n",
    "            \n",
    "            \n",
    "        else:\n",
    "            \n",
    "            move = input('choose your move')\n",
    "            \n",
    "            if board[move] == ' ':\n",
    "                board[move] = 'O'\n",
    "                turn = 0\n",
    "            else:\n",
    "                print('choose another move')\n",
    "                turn = 1\n",
    "            "
   ]
  },
  {
   "cell_type": "markdown",
   "metadata": {},
   "source": [
    "**Now let's create the rules for the game to find the winner**"
   ]
  },
  {
   "cell_type": "code",
   "execution_count": 15,
   "metadata": {},
   "outputs": [],
   "source": [
    "def check_winner():\n",
    "    \n",
    "    if board['1'] == board['2'] == board['3'] != ' ': #first row \n",
    "        w = ['player 1' if board['1'] == 'X' else 'player 2']\n",
    "        return w\n",
    "    \n",
    "    elif board['4'] == board['5'] == board['6'] != ' ': #second row\n",
    "        w = ['player 1' if board['4'] == 'X' else 'player 2']\n",
    "        return w\n",
    "    \n",
    "    elif board['7'] == board['8'] == board['9'] != ' ': #third row \n",
    "        w = ['player 1' if board['7'] == 'X' else 'player 2']\n",
    "        return w\n",
    "    \n",
    "    elif board['1'] == board['4'] == board['7'] != ' ': #first column\n",
    "        w = ['player 1' if board['1'] == 'X' else 'player 2']\n",
    "        return w\n",
    "    \n",
    "    elif board['2'] == board['5'] == board['8'] != ' ': #second column\n",
    "        w = ['player 1' if board['2'] == 'X' else 'player 2']\n",
    "        return w\n",
    "    \n",
    "    elif board['3'] == board['6'] == board['9'] != ' ': #third column \n",
    "        w = ['player 1' if board['3'] == 'X' else 'player 2']\n",
    "        return w\n",
    "    \n",
    "    elif board['1'] == board['5'] == board['9'] != ' ': # first diagonal \n",
    "        w = ['player 1' if board['1'] == 'X' else 'player 2']\n",
    "        return w\n",
    "    \n",
    "    elif board['3'] == board['5'] == board['7'] != ' ':\n",
    "        w = ['player 1' if board['3'] == 'X' else 'player 2']\n",
    "        return w\n"
   ]
  },
  {
   "cell_type": "code",
   "execution_count": 5,
   "metadata": {},
   "outputs": [
    {
     "name": "stdout",
     "output_type": "stream",
     "text": [
      "    |    |   \n",
      "    |    |  \n",
      "____|____|___\n",
      "    |    |  \n",
      "    |    |  \n",
      "____|____|___\n",
      "    |    |  \n",
      "    |    |  \n",
      "    |    |  \n",
      "choose your move: \n"
     ]
    },
    {
     "ename": "KeyError",
     "evalue": "''",
     "output_type": "error",
     "traceback": [
      "\u001b[1;31m---------------------------------------------------------------------------\u001b[0m",
      "\u001b[1;31mKeyError\u001b[0m                                  Traceback (most recent call last)",
      "\u001b[1;32m<ipython-input-5-78f8307e3232>\u001b[0m in \u001b[0;36m<module>\u001b[1;34m\u001b[0m\n\u001b[0;32m     10\u001b[0m         \u001b[0mclear_output\u001b[0m\u001b[1;33m(\u001b[0m\u001b[1;33m)\u001b[0m\u001b[1;33m\u001b[0m\u001b[1;33m\u001b[0m\u001b[0m\n\u001b[0;32m     11\u001b[0m         \u001b[0mdisplay_board\u001b[0m\u001b[1;33m(\u001b[0m\u001b[0mboard\u001b[0m\u001b[1;33m)\u001b[0m\u001b[1;33m\u001b[0m\u001b[1;33m\u001b[0m\u001b[0m\n\u001b[1;32m---> 12\u001b[1;33m         \u001b[0mplayer_input\u001b[0m\u001b[1;33m(\u001b[0m\u001b[1;33m)\u001b[0m\u001b[1;33m\u001b[0m\u001b[1;33m\u001b[0m\u001b[0m\n\u001b[0m\u001b[0;32m     13\u001b[0m         \u001b[0mwinner\u001b[0m \u001b[1;33m=\u001b[0m \u001b[0mcheck_winner\u001b[0m\u001b[1;33m(\u001b[0m\u001b[1;33m)\u001b[0m\u001b[1;33m\u001b[0m\u001b[1;33m\u001b[0m\u001b[0m\n\u001b[0;32m     14\u001b[0m \u001b[1;33m\u001b[0m\u001b[0m\n",
      "\u001b[1;32m<ipython-input-3-2c47b27583d2>\u001b[0m in \u001b[0;36mplayer_input\u001b[1;34m()\u001b[0m\n\u001b[0;32m      9\u001b[0m             \u001b[0mmove\u001b[0m \u001b[1;33m=\u001b[0m \u001b[0minput\u001b[0m\u001b[1;33m(\u001b[0m\u001b[1;34m'choose your move: '\u001b[0m\u001b[1;33m)\u001b[0m\u001b[1;33m\u001b[0m\u001b[1;33m\u001b[0m\u001b[0m\n\u001b[0;32m     10\u001b[0m \u001b[1;33m\u001b[0m\u001b[0m\n\u001b[1;32m---> 11\u001b[1;33m             \u001b[1;32mif\u001b[0m \u001b[0mboard\u001b[0m\u001b[1;33m[\u001b[0m\u001b[0mmove\u001b[0m\u001b[1;33m]\u001b[0m \u001b[1;33m==\u001b[0m \u001b[1;34m' '\u001b[0m\u001b[1;33m:\u001b[0m\u001b[1;33m\u001b[0m\u001b[1;33m\u001b[0m\u001b[0m\n\u001b[0m\u001b[0;32m     12\u001b[0m                 \u001b[0mboard\u001b[0m\u001b[1;33m[\u001b[0m\u001b[0mmove\u001b[0m\u001b[1;33m]\u001b[0m \u001b[1;33m=\u001b[0m \u001b[1;34m'X'\u001b[0m\u001b[1;33m\u001b[0m\u001b[1;33m\u001b[0m\u001b[0m\n\u001b[0;32m     13\u001b[0m                 \u001b[0mturn\u001b[0m \u001b[1;33m=\u001b[0m \u001b[1;36m1\u001b[0m\u001b[1;33m\u001b[0m\u001b[1;33m\u001b[0m\u001b[0m\n",
      "\u001b[1;31mKeyError\u001b[0m: ''"
     ]
    }
   ],
   "source": [
    "while True:\n",
    "    turn = 0\n",
    "    count = 0\n",
    "    board = {'1':' ', '2':' ', '3':' ', '4':' ', '5':' ', '6':' ','7':' ','8':' ','9':' '}\n",
    "    sleep(3)\n",
    "    game_on = True\n",
    "\n",
    "    while game_on:\n",
    "        count += 1\n",
    "        clear_output()\n",
    "        display_board(board)\n",
    "        player_input()\n",
    "        winner = check_winner()\n",
    "        \n",
    "        \n",
    "        if winner == ['player 1']:\n",
    "            clear_output()\n",
    "            display_board(board)\n",
    "            print('player 1 won')\n",
    "            game_on = False\n",
    "            stop = input('Do you want to play another game(y/n)? ')\n",
    "            \n",
    "        elif winner == ['player 2']:\n",
    "            clear_output()\n",
    "            display_board(board)\n",
    "            print('player 2 won')\n",
    "            game_on = False\n",
    "            stop = input('Do you want to play another game(y/n)? ')\n",
    "            \n",
    "        elif count == 9:\n",
    "            clear_output()\n",
    "            display_board(board)\n",
    "            print('game is tied')\n",
    "            game_on = False\n",
    "            stop = input('Do you want to play another game(y/n)? ')\n",
    "            \n",
    "    if stop == 'n':\n",
    "        \n",
    "        break"
   ]
  },
  {
   "cell_type": "markdown",
   "metadata": {},
   "source": [
    "**The game is working as expected. Now lets put everything together and make one function called tictactoe**\n"
   ]
  },
  {
   "cell_type": "code",
   "execution_count": 16,
   "metadata": {},
   "outputs": [],
   "source": [
    "def tictactoe():\n",
    "    \n",
    "    global board\n",
    "    global turns \n",
    "    global count\n",
    "    \n",
    "    while True:\n",
    "        turn = 0\n",
    "        count = 0\n",
    "        board = {'1':' ', '2':' ', '3':' ', '4':' ', '5':' ', '6':' ','7':' ','8':' ','9':' '}\n",
    "        sleep(3)\n",
    "        game_on = True\n",
    "\n",
    "        while game_on:\n",
    "            count += 1\n",
    "            clear_output()\n",
    "            display_board(board)\n",
    "            player_input()\n",
    "            winner = check_winner()\n",
    "\n",
    "\n",
    "            if winner == ['player 1']:\n",
    "                clear_output()\n",
    "                display_board(board)\n",
    "                print('player 1 won')\n",
    "                game_on = False\n",
    "                stop = input('Do you want to play another game(y/n)? ')\n",
    "\n",
    "            elif winner == ['player 2']:\n",
    "                clear_output()\n",
    "                display_board(board)\n",
    "                print('player 2 won')\n",
    "                game_on = False\n",
    "                stop = input('Do you want to play another game(y/n)? ')\n",
    "\n",
    "            elif count == 9:\n",
    "                clear_output()\n",
    "                display_board(board)\n",
    "                print('game is tied')\n",
    "                game_on = False\n",
    "                stop = input('Do you want to play another game(y/n)? ')\n",
    "\n",
    "        if stop == 'n':\n",
    "\n",
    "            break"
   ]
  },
  {
   "cell_type": "code",
   "execution_count": 34,
   "metadata": {},
   "outputs": [],
   "source": [
    "def tictactoe():\n",
    "    \n",
    "    global board\n",
    "    global turn \n",
    "    global count\n",
    "    \n",
    "    while True:\n",
    "        turn = 0\n",
    "        count = 0\n",
    "        board = {'1':' ', '2':' ', '3':' ', '4':' ', '5':' ', '6':' ','7':' ','8':' ','9':' '}\n",
    "        sleep(3)\n",
    "        game_on = True\n",
    "\n",
    "        while game_on:\n",
    "            \n",
    "            count += 1\n",
    "            clear_output()\n",
    "            display_board(board)\n",
    "            avail = available_moves(board)\n",
    "            next_move = select_move(avail)\n",
    "            update_board(board, next_move)\n",
    "            winner = check_winner()\n",
    "\n",
    "\n",
    "            if winner == ['player 1']:\n",
    "                clear_output()\n",
    "                display_board(board)\n",
    "                print('player 1 won')\n",
    "                game_on = False\n",
    "                \n",
    "\n",
    "            elif winner == ['player 2']:\n",
    "                clear_output()\n",
    "                display_board(board)\n",
    "                print('player 2 won')\n",
    "                game_on = False\n",
    "                \n",
    "\n",
    "            elif count == 9:\n",
    "                clear_output()\n",
    "                display_board(board)\n",
    "                print('game is tied')\n",
    "                game_on = False"
   ]
  },
  {
   "cell_type": "markdown",
   "metadata": {},
   "source": [
    "**Now lets try to make the Reinforcement Learning algorithm or let's set up a RL brain!**\n",
    "\n",
    "In order to do this I am first planning to make the computer play by itself. So I will be making the functions again here. First let's try to make random moves and see if the algorithm is able to play games by itself. "
   ]
  },
  {
   "cell_type": "code",
   "execution_count": 60,
   "metadata": {},
   "outputs": [],
   "source": [
    "def available_moves(board):       \n",
    "    \n",
    "    avail_moves = []    \n",
    "    for i in board:\n",
    "        if board[i] == ' ':\n",
    "            avail_moves.append(i)    \n",
    "    return avail_moves\n",
    "\n",
    "\n",
    "def update_board(board, next_move):\n",
    "    global turn \n",
    "       \n",
    "    if turn == 0:\n",
    "        \n",
    "        board[next_move] = 'X'\n",
    "        turn = 1\n",
    "        \n",
    "    else:\n",
    "        \n",
    "        board[next_move] = 'O'\n",
    "        turn = 0\n"
   ]
  },
  {
   "cell_type": "markdown",
   "metadata": {},
   "source": [
    "**Now let's create two brains for two computer players**\n",
    "\n",
    "First I am using a method that i think is the best. Let's see if this is going to perform well. First I am going to give a reward(+1) to help to win a game. If lost I give those moves a penalty(-1). If tied a reward of 0.5 is given. "
   ]
  },
  {
   "cell_type": "code",
   "execution_count": 153,
   "metadata": {},
   "outputs": [],
   "source": [
    "#define the reward, penalty and tie reward \n",
    "win_reward = 1\n",
    "loss_penalty = -1\n",
    "tie_reward = 0.5\n",
    "gamma = 1\n",
    "B = np.zeros([5,9])\n",
    "\n",
    "def brain(B, result, match, gamma):\n",
    "    \n",
    "    \n",
    "    \n",
    "    R = np.zeros([5,9])\n",
    "    \n",
    "    \n",
    "    if result == 1:\n",
    "        \n",
    "        for move in match:\n",
    "            row, col = move\n",
    "            R[row,col-1] = win_reward\n",
    "            \n",
    "    elif result == 0:\n",
    "        \n",
    "        for move in match:\n",
    "            row, col = move\n",
    "            R[row, col-1] = loss_penalty\n",
    "            \n",
    "    else:\n",
    "        \n",
    "        for move in match:\n",
    "            row, col = move\n",
    "            R[row, col-1] = tie_reward\n",
    "    \n",
    "    B = B + gamma*R      \n",
    "    \n",
    "    return B  "
   ]
  },
  {
   "cell_type": "code",
   "execution_count": 162,
   "metadata": {},
   "outputs": [],
   "source": [
    "def select_move(B, count):\n",
    "    \n",
    "    if B[count].any() > 5:\n",
    "        next_move = np.argmax(B[count])\n",
    "        next_move = next_move + 1\n",
    "    else:\n",
    "        next_move = np.random.randint(1,9)\n",
    "    \n",
    "    return str(next_move)\n",
    "\n",
    "def update_board(board, next_move):\n",
    "    global turn \n",
    "       \n",
    "    if turn == 0:\n",
    "        \n",
    "        board[next_move] = 'X'\n",
    "        turn = 1\n",
    "        \n",
    "    else:\n",
    "        \n",
    "        board[next_move] = 'O'\n",
    "        turn = 0\n"
   ]
  },
  {
   "cell_type": "code",
   "execution_count": 163,
   "metadata": {},
   "outputs": [
    {
     "data": {
      "text/plain": [
       "array([[0., 0., 0., 0., 0., 0., 0., 0., 0.],\n",
       "       [0., 0., 0., 0., 0., 0., 0., 0., 0.],\n",
       "       [0., 0., 0., 0., 0., 0., 0., 0., 0.],\n",
       "       [0., 0., 0., 0., 0., 0., 0., 0., 0.],\n",
       "       [0., 0., 0., 0., 0., 0., 0., 0., 0.]])"
      ]
     },
     "execution_count": 163,
     "metadata": {},
     "output_type": "execute_result"
    }
   ],
   "source": [
    "B"
   ]
  },
  {
   "cell_type": "code",
   "execution_count": 185,
   "metadata": {},
   "outputs": [
    {
     "name": "stdout",
     "output_type": "stream",
     "text": [
      "    |    |   \n",
      " X  | O  | O\n",
      "____|____|___\n",
      "    |    |  \n",
      " X  | X  |  \n",
      "____|____|___\n",
      "    |    |  \n",
      " O  | X  |  \n",
      "    |    |  \n",
      "    |    |   \n",
      " X  | O  | O\n",
      "____|____|___\n",
      "    |    |  \n",
      " X  | X  | O\n",
      "____|____|___\n",
      "    |    |  \n",
      " O  | X  |  \n",
      "    |    |  \n",
      "game is tied\n"
     ]
    },
    {
     "ename": "KeyboardInterrupt",
     "evalue": "",
     "output_type": "error",
     "traceback": [
      "\u001b[1;31m---------------------------------------------------------------------------\u001b[0m",
      "\u001b[1;31mKeyboardInterrupt\u001b[0m                         Traceback (most recent call last)",
      "\u001b[1;32m<ipython-input-185-4e3ff70394a0>\u001b[0m in \u001b[0;36m<module>\u001b[1;34m\u001b[0m\n\u001b[0;32m     13\u001b[0m     \u001b[0mcount2\u001b[0m \u001b[1;33m=\u001b[0m \u001b[1;36m0\u001b[0m\u001b[1;33m\u001b[0m\u001b[1;33m\u001b[0m\u001b[0m\n\u001b[0;32m     14\u001b[0m     \u001b[0mboard\u001b[0m \u001b[1;33m=\u001b[0m \u001b[1;33m{\u001b[0m\u001b[1;34m'1'\u001b[0m\u001b[1;33m:\u001b[0m\u001b[1;34m' '\u001b[0m\u001b[1;33m,\u001b[0m \u001b[1;34m'2'\u001b[0m\u001b[1;33m:\u001b[0m\u001b[1;34m' '\u001b[0m\u001b[1;33m,\u001b[0m \u001b[1;34m'3'\u001b[0m\u001b[1;33m:\u001b[0m\u001b[1;34m' '\u001b[0m\u001b[1;33m,\u001b[0m \u001b[1;34m'4'\u001b[0m\u001b[1;33m:\u001b[0m\u001b[1;34m' '\u001b[0m\u001b[1;33m,\u001b[0m \u001b[1;34m'5'\u001b[0m\u001b[1;33m:\u001b[0m\u001b[1;34m' '\u001b[0m\u001b[1;33m,\u001b[0m \u001b[1;34m'6'\u001b[0m\u001b[1;33m:\u001b[0m\u001b[1;34m' '\u001b[0m\u001b[1;33m,\u001b[0m\u001b[1;34m'7'\u001b[0m\u001b[1;33m:\u001b[0m\u001b[1;34m' '\u001b[0m\u001b[1;33m,\u001b[0m\u001b[1;34m'8'\u001b[0m\u001b[1;33m:\u001b[0m\u001b[1;34m' '\u001b[0m\u001b[1;33m,\u001b[0m\u001b[1;34m'9'\u001b[0m\u001b[1;33m:\u001b[0m\u001b[1;34m' '\u001b[0m\u001b[1;33m}\u001b[0m\u001b[1;33m\u001b[0m\u001b[1;33m\u001b[0m\u001b[0m\n\u001b[1;32m---> 15\u001b[1;33m     \u001b[0msleep\u001b[0m\u001b[1;33m(\u001b[0m\u001b[1;36m3\u001b[0m\u001b[1;33m)\u001b[0m\u001b[1;33m\u001b[0m\u001b[1;33m\u001b[0m\u001b[0m\n\u001b[0m\u001b[0;32m     16\u001b[0m \u001b[1;33m\u001b[0m\u001b[0m\n\u001b[0;32m     17\u001b[0m     \u001b[0mgame_on\u001b[0m \u001b[1;33m=\u001b[0m \u001b[1;32mTrue\u001b[0m\u001b[1;33m\u001b[0m\u001b[1;33m\u001b[0m\u001b[0m\n",
      "\u001b[1;31mKeyboardInterrupt\u001b[0m: "
     ]
    }
   ],
   "source": [
    "global board\n",
    "global turn \n",
    "global count\n",
    "global b1\n",
    "global b2\n",
    "b1 = np.zeros([5,9])\n",
    "b2 = np.zeros([5,9])\n",
    "gamma = 0.1\n",
    "while True:\n",
    "\n",
    "    turn = 0\n",
    "    count1 = 0\n",
    "    count2 = 0 \n",
    "    board = {'1':' ', '2':' ', '3':' ', '4':' ', '5':' ', '6':' ','7':' ','8':' ','9':' '}\n",
    "    sleep(3)\n",
    "\n",
    "    game_on = True\n",
    "    match1 = []\n",
    "    match2 = []\n",
    "    all_moves = []\n",
    "    \n",
    "    while game_on:\n",
    "\n",
    "       \n",
    "        clear_output()\n",
    "        display_board(board)\n",
    "        \n",
    "        if turn == 0:\n",
    "            \n",
    "            \n",
    "            while next_move in all_moves:\n",
    "                next_move = select_move(b1, count1)\n",
    "            \n",
    "            match1.append((count1, int(next_move)))\n",
    "            all_moves.append(next_move)\n",
    "            update_board(board, next_move)\n",
    "            count1 += 1\n",
    "            \n",
    "            \n",
    "        elif turn == 1:\n",
    "            \n",
    "            \n",
    "            while next_move in all_moves:\n",
    "                next_move = select_move(b2, count1)\n",
    "                \n",
    "            match2.append((count2, int(next_move)))\n",
    "            all_moves.append(next_move)\n",
    "            update_board(board, next_move)\n",
    "            count2 += 1\n",
    "       \n",
    "        \n",
    "        winner = check_winner()\n",
    "\n",
    "        if winner == ['player 1']:\n",
    "            #clear_output()\n",
    "            display_board(board)\n",
    "            print('player 1 won')\n",
    "            brain1 = brain(b1, 1, match1, gamma)\n",
    "            brain2 = brain(b2, 0, match2, gamma)\n",
    "            b1 = b1 + brain1\n",
    "            b2 = b2 + brain2\n",
    "            \n",
    "            game_on = False\n",
    "\n",
    "\n",
    "        elif winner == ['player 2']:\n",
    "            #clear_output()\n",
    "            display_board(board)\n",
    "            print('player 2 won')\n",
    "            brain1 = brain(b1, 0, match1, gamma)\n",
    "            brain2 = brain(b2, 0, match2, gamma)\n",
    "            b1 = b1 + brain1\n",
    "            b2 = b2 + brain2\n",
    "            \n",
    "            game_on = False\n",
    "\n",
    "\n",
    "        elif count1 + count2 == 8:\n",
    "            #clear_output()\n",
    "            display_board(board)\n",
    "            print('game is tied')\n",
    "            brain1 = brain(b1, 2, match1, gamma)\n",
    "            brain2 = brain(b2, 2, match2, gamma)\n",
    "            b1 = b1 + brain1\n",
    "            b2 = b2 + brain2\n",
    "            \n",
    "            game_on = False"
   ]
  },
  {
   "cell_type": "code",
   "execution_count": 188,
   "metadata": {},
   "outputs": [
    {
     "data": {
      "text/plain": [
       "1773070090246.4"
      ]
     },
     "execution_count": 188,
     "metadata": {},
     "output_type": "execute_result"
    }
   ],
   "source": [
    "np.max(b1)"
   ]
  },
  {
   "cell_type": "code",
   "execution_count": 189,
   "metadata": {},
   "outputs": [
    {
     "data": {
      "text/plain": [
       "110051826069.6"
      ]
     },
     "execution_count": 189,
     "metadata": {},
     "output_type": "execute_result"
    }
   ],
   "source": [
    "np.max(b2)"
   ]
  },
  {
   "cell_type": "code",
   "execution_count": null,
   "metadata": {},
   "outputs": [],
   "source": []
  }
 ],
 "metadata": {
  "kernelspec": {
   "display_name": "Python 3",
   "language": "python",
   "name": "python3"
  },
  "language_info": {
   "codemirror_mode": {
    "name": "ipython",
    "version": 3
   },
   "file_extension": ".py",
   "mimetype": "text/x-python",
   "name": "python",
   "nbconvert_exporter": "python",
   "pygments_lexer": "ipython3",
   "version": "3.7.6"
  }
 },
 "nbformat": 4,
 "nbformat_minor": 4
}
